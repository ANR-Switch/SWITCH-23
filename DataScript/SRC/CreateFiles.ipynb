{
 "cells": [
  {
   "cell_type": "code",
   "execution_count": 1,
   "metadata": {},
   "outputs": [],
   "source": [
    "\"\"\"\n",
    "Created on Tue Apr 25 16:21:40 2023\n",
    "\n",
    "@author: flavien\n",
    "\"\"\"\n",
    "\n",
    "import ast\n",
    "import geopandas as gpd\n",
    "import os\n",
    "import pandas as pd\n",
    "import random\n",
    "\n",
    "import CentroidandSphere as Cs\n",
    "import FormatRoute as Fr\n",
    "import PrepaDataWShabou as Shabou"
   ]
  },
  {
   "cell_type": "code",
   "execution_count": null,
   "metadata": {},
   "outputs": [],
   "source": [
    "src_ppl = '../IN/EMD_pers.csv'\n",
    "dst_ppl = '../OUT/People.csv'"
   ]
  },
  {
   "cell_type": "code",
   "execution_count": null,
   "metadata": {},
   "outputs": [],
   "source": [
    "src_pop = '../IN/population.csv'\n",
    "population_model = '../OUT/populationModel.csv'\n",
    "population = '../OUT/population.csv'"
   ]
  },
  {
   "cell_type": "code",
   "execution_count": null,
   "metadata": {},
   "outputs": [],
   "source": [
    "src_depl = '../IN/EMD_depl.csv'\n",
    "dst_depl = '../OUT/depl.csv'"
   ]
  },
  {
   "cell_type": "code",
   "execution_count": null,
   "metadata": {},
   "outputs": [],
   "source": [
    "src_road = '../IN/TRONCON_DE_ROUTE.shp'\n",
    "dst_road = '../OUT/road.shp'"
   ]
  },
  {
   "cell_type": "code",
   "execution_count": 2,
   "metadata": {},
   "outputs": [],
   "source": [
    "src_bati = '../IN/BATIMENT.shp'\n",
    "dst_bati = '../OUT/bati.shp'"
   ]
  },
  {
   "cell_type": "code",
   "execution_count": null,
   "metadata": {},
   "outputs": [],
   "source": [
    "out_path = '../OUT'\n",
    "\n",
    "in_path = '../IN'"
   ]
  },
  {
   "cell_type": "code",
   "execution_count": 3,
   "metadata": {},
   "outputs": [],
   "source": [
    "communes = '../IN/COMMUNE.shp'\n",
    "\n",
    "communeAEtudier = \"31555\"\n",
    "rayon = 15000"
   ]
  },
  {
   "cell_type": "code",
   "execution_count": null,
   "metadata": {},
   "outputs": [],
   "source": [
    "def one_of(l):\n",
    "    actis = ast.literal_eval(l['D5A'])\n",
    "    times = ast.literal_eval(l['D4'])\n",
    "\n",
    "    i = random.randint(0, len(l) - 1)\n",
    "    # print(l[i])\n",
    "    return actis[i], times[i]\n",
    "\n",
    "\n",
    "def set_activities(r):\n",
    "    r['activities'], r['depart'] = one_of(pop_model.loc[r['profile']])\n",
    "\n",
    "    return r"
   ]
  },
  {
   "cell_type": "code",
   "execution_count": null,
   "metadata": {},
   "outputs": [],
   "source": [
    "print('Initiating file creation script')\n",
    "if (not os.path.exists(out_path)):\n",
    "    os.mkdir(out_path)\n",
    "if (not os.path.exists(in_path)):\n",
    "    os.mkdir(in_path)"
   ]
  },
  {
   "cell_type": "code",
   "execution_count": null,
   "metadata": {},
   "outputs": [],
   "source": [
    "print('create EMD classified people file')\n",
    "Shabou.createPeople(src_ppl, dst_ppl)\n",
    "print('create activity file')\n",
    "Shabou.createActivityChain(src_depl, dst_depl)\n",
    "\n",
    "ppl = pd.read_csv(dst_ppl)\n",
    "depl = pd.read_csv(dst_depl)"
   ]
  },
  {
   "cell_type": "code",
   "execution_count": null,
   "metadata": {},
   "outputs": [],
   "source": [
    "print('create activity file')\n",
    "Shabou.createActivityChain(src_depl, dst_depl)\n",
    "ppl = pd.read_csv(dst_ppl)\n",
    "depl = pd.read_csv(dst_depl)"
   ]
  },
  {
   "cell_type": "code",
   "execution_count": null,
   "metadata": {},
   "outputs": [],
   "source": [
    "print('create modele file')\n",
    "ppl = pd.read_csv(dst_ppl)\n",
    "depl = pd.read_csv(dst_depl)\n",
    "Shabou.createModelPopulation(ppl, depl, population_model)\n",
    "pop_model = pd.read_csv(population_model)"
   ]
  },
  {
   "cell_type": "code",
   "execution_count": null,
   "metadata": {},
   "outputs": [],
   "source": [
    "print('read population files')\n",
    "ppl = pd.read_csv(dst_ppl)\n",
    "depl = pd.read_csv(dst_depl)\n",
    "pop_model = pd.read_csv(population_model)"
   ]
  },
  {
   "cell_type": "code",
   "execution_count": null,
   "metadata": {},
   "outputs": [],
   "source": [
    "if (not os.path.exists(population)):\n",
    "    print('read population file')\n",
    "    pop = pd.read_csv(src_pop)\n",
    "\n",
    "    print('create new population with model')\n",
    "    pop_model.set_index(['profile'], inplace=True)\n",
    "    pop = pop.apply(lambda r: set_activities(r), axis=1)\n",
    "    pop = pop.drop(axis=1, labels='Unnamed: 0')\n",
    "    pop.to_csv(population)\n",
    "else:\n",
    "    print('population dont change')\n",
    "    pop = pd.read_csv(population)"
   ]
  },
  {
   "cell_type": "code",
   "execution_count": 4,
   "metadata": {},
   "outputs": [
    {
     "name": "stdout",
     "output_type": "stream",
     "text": [
      "creating bati\n"
     ]
    },
    {
     "ename": "TypeError",
     "evalue": "intersectCercle() missing 3 required positional arguments: 'communes', 'communeAEtudier', and 'rayon'",
     "output_type": "error",
     "traceback": [
      "\u001b[1;31m---------------------------------------------------------------------------\u001b[0m",
      "\u001b[1;31mTypeError\u001b[0m                                 Traceback (most recent call last)",
      "Cell \u001b[1;32mIn[4], line 4\u001b[0m\n\u001b[0;32m      2\u001b[0m \u001b[38;5;28mprint\u001b[39m(\u001b[38;5;124m'\u001b[39m\u001b[38;5;124mcreating bati\u001b[39m\u001b[38;5;124m'\u001b[39m)\n\u001b[0;32m      3\u001b[0m bati \u001b[38;5;241m=\u001b[39m gpd\u001b[38;5;241m.\u001b[39mread_file(src_bati)\n\u001b[1;32m----> 4\u001b[0m bati \u001b[38;5;241m=\u001b[39m \u001b[43mCs\u001b[49m\u001b[38;5;241;43m.\u001b[39;49m\u001b[43mintersectCercle\u001b[49m\u001b[43m(\u001b[49m\u001b[43mbati\u001b[49m\u001b[43m)\u001b[49m\n\u001b[0;32m      5\u001b[0m bati \u001b[38;5;241m=\u001b[39m Cs\u001b[38;5;241m.\u001b[39mnormalise_bati_topo(bati)\n\u001b[0;32m      6\u001b[0m bati\u001b[38;5;241m.\u001b[39mto_file(dst_bati)\n",
      "\u001b[1;31mTypeError\u001b[0m: intersectCercle() missing 3 required positional arguments: 'communes', 'communeAEtudier', and 'rayon'"
     ]
    }
   ],
   "source": [
    "if(not os.path.exists(dst_bati)):\n",
    "    print('creating bati')\n",
    "    bati = gpd.read_file(src_bati)\n",
    "    print(\"file readed\")\n",
    "    bati = Cs.intersectCercle(bati,communes,communeAEtudier,rayon)\n",
    "    bati = Cs.normalise_bati_topo(bati)\n",
    "    bati.to_file(dst_bati)"
   ]
  },
  {
   "cell_type": "code",
   "execution_count": null,
   "metadata": {},
   "outputs": [],
   "source": [
    "\n",
    "\n",
    "if (not os.path.exists(dst_road)):\n",
    "    print('creating roads')\n",
    "    road = gpd.read_file(src_road)\n",
    "    road = Cs.intersectCercle(road, communes, communeAEtudier, rayon)\n",
    "    road = Fr.format_route_direct(road)\n",
    "    road.to_file(dst_road)\n",
    "else:\n",
    "    print('roads dont change')\n",
    "\n",
    "\n",
    "\"\"\"if(not os.path.exists(dst_road)):\n",
    "    if not os.path.exist(src_road_agglo):\n",
    "        print('creating agglo map')\n",
    "        fr.loc_road(src_road_region,src_road_agglo)\n",
    "    print('formating agglo road map')\n",
    "    fr.format_road(src_road_agglo,dst_road)\n",
    "\n",
    "\n",
    "if (not os.path.exists(dst_road_main_component)):\n",
    "    print('creating main conected component og the graph road')\n",
    "    road = gpd.read_file(dst_road)\n",
    "    road = Cs.largest_connected_component(road)\n",
    "    road.to_file(dst_road_main_component)\n",
    "else:\n",
    "    print('bati dont change')\n",
    "\"\"\""
   ]
  }
 ],
 "metadata": {
  "kernelspec": {
   "display_name": "Python 3",
   "language": "python",
   "name": "python3"
  },
  "language_info": {
   "codemirror_mode": {
    "name": "ipython",
    "version": 3
   },
   "file_extension": ".py",
   "mimetype": "text/x-python",
   "name": "python",
   "nbconvert_exporter": "python",
   "pygments_lexer": "ipython3",
   "version": "3.11.9"
  }
 },
 "nbformat": 4,
 "nbformat_minor": 2
}
